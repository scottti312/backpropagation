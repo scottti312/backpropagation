{
 "cells": [
  {
   "cell_type": "code",
   "execution_count": 1,
   "metadata": {},
   "outputs": [],
   "source": [
    "import numpy as np\n",
    "import pandas as pd\n",
    "import matplotlib.pyplot as plt\n",
    "\n",
    "X_train = pd.read_csv(\"data/training60000.csv\", header=None)\n",
    "X_train = X_train.to_numpy()\n",
    "y_train = pd.read_csv(\"data/training60000_labels.csv\", header=None)\n",
    "y_train = np.eye(10)[y_train.astype('int32')].reshape(60000,10)\n",
    "X_test = pd.read_csv(\"data/testing10000.csv\", header=None)\n",
    "X_test = X_test.to_numpy()\n",
    "y_test = pd.read_csv(\"data/testing10000_labels.csv\", header=None)\n",
    "y_test = np.eye(10)[y_test.astype('int32')].reshape(10000,10)"
   ]
  },
  {
   "cell_type": "code",
   "execution_count": 2,
   "metadata": {},
   "outputs": [
    {
     "data": {
      "image/png": "[encoded data removed]",
      "text/plain": [
       "<Figure size 432x288 with 1 Axes>"
      ]
     },
     "metadata": {
      "needs_background": "light"
     },
     "output_type": "display_data"
    },
    {
     "name": "stdout",
     "output_type": "stream",
     "text": [
      "[0. 0. 0. 0. 0. 1. 0. 0. 0. 0.]\n"
     ]
    }
   ],
   "source": [
    "%matplotlib inline\n",
    "import matplotlib.pyplot as plt\n",
    "\n",
    "i = 5\n",
    "plt.imshow(X_train[i].reshape(28,28), cmap='Greys')\n",
    "plt.show()\n",
    "print(y_train[i])\n"
   ]
  },
  {
   "cell_type": "code",
   "execution_count": 4,
   "metadata": {},
   "outputs": [
    {
     "name": "stdout",
     "output_type": "stream",
     "text": [
      "Epoch: 0\tLoss: 84.63162650981336\n",
      "Epoch: 1\tLoss: 43.25464603256321\n",
      "Epoch: 2\tLoss: 34.83804665721932\n",
      "Epoch: 3\tLoss: 30.586131188074916\n",
      "Epoch: 4\tLoss: 27.90471175689956\n",
      "Epoch: 5\tLoss: 26.048141205381235\n",
      "Epoch: 6\tLoss: 24.45487276141241\n",
      "Epoch: 7\tLoss: 23.343754121957076\n",
      "Epoch: 8\tLoss: 22.200044389914652\n",
      "Epoch: 9\tLoss: 21.281110611691727\n",
      "Epoch: 10\tLoss: 20.56312846556491\n",
      "Epoch: 11\tLoss: 19.918498981492572\n",
      "Epoch: 12\tLoss: 19.19128517358737\n",
      "Epoch: 13\tLoss: 18.60025549031518\n",
      "Epoch: 14\tLoss: 18.09273269270078\n",
      "Epoch: 15\tLoss: 17.70007741952993\n",
      "Epoch: 16\tLoss: 17.221519945080136\n",
      "Epoch: 17\tLoss: 16.904776328974553\n",
      "Epoch: 18\tLoss: 16.5794761404037\n",
      "Epoch: 19\tLoss: 16.19594214685204\n",
      "Epoch: 20\tLoss: 15.796416811861972\n",
      "Epoch: 21\tLoss: 15.49791448880816\n",
      "Epoch: 22\tLoss: 15.176748413764175\n",
      "Epoch: 23\tLoss: 14.867398280313697\n",
      "Epoch: 24\tLoss: 14.649752292691588\n",
      "Epoch: 25\tLoss: 14.412183156942149\n",
      "Epoch: 26\tLoss: 14.173653893136832\n",
      "Epoch: 27\tLoss: 13.923566916376316\n",
      "Epoch: 28\tLoss: 13.584958562272998\n",
      "Epoch: 29\tLoss: 13.396865366492833\n",
      "====Results\n",
      "Network properties: Input: 784, Batch Size: 64, Output: 10\n",
      "Correct classification: 9057\n",
      "Incorrect classification: 943\n",
      "Accuracy: 90.57%\n"
     ]
    }
   ],
   "source": [
    "class DeepNeuralNetwork:\n",
    "    def __init__(self, X_train, y_train, learn_rate = 0.0001, epochs = 30, batch_size = 64):\n",
    "        self.X_train = X_train \n",
    "        self.y_train = y_train\n",
    "        self.learn_rate = learn_rate\n",
    "        self.epochs = epochs\n",
    "        self.batch_size = batch_size\n",
    "        \n",
    "        self.batch_x = self.X_train[:batch_size]\n",
    "        self.batch_y = self.y_train[:batch_size]\n",
    "        \n",
    "        np.random.seed(14)\n",
    "        layer1_neurons = 784\n",
    "        layer2_neurons = 392\n",
    "        \n",
    "        self.weight1 = np.random.randn(self.X_train.shape[1], layer1_neurons)\n",
    "        self.bias1 = np.random.randn(layer1_neurons)\n",
    "        self.weight2 = np.random.randn(layer1_neurons, layer2_neurons)\n",
    "        self.bias2 = np.random.randn(layer2_neurons)\n",
    "        self.weight3 = np.random.randn(layer2_neurons, self.batch_y.shape[1])\n",
    "        self.bias3 = np.random.randn(self.weight3.shape[1])\n",
    "        \n",
    "    def forwardpass(self):\n",
    "        self.z1 = self.batch_x.dot(self.weight1) + self.bias1\n",
    "        # ReLU layer\n",
    "        self.layer1 = np.maximum(0, self.z1)\n",
    "\n",
    "        self.z2 = self.layer1.dot(self.weight2) + self.bias2\n",
    "        # ReLU layer\n",
    "        self.layer2 = np.maximum(0, self.z2)\n",
    "        \n",
    "        self.z3 = self.layer2.dot(self.weight3) + self.bias3\n",
    "        z3 = self.z3 - np.max(self.z3, axis = 1).reshape(self.z3.shape[0], 1)\n",
    "        # Softmax layer\n",
    "        self.layer3 = np.exp(z3) / np.sum(np.exp(z3), axis = 1).reshape(z3.shape[0], 1)\n",
    "        self.error = self.layer3 - self.batch_y\n",
    "\n",
    "    def backpropagate(self):\n",
    "        cost = (1 / self.batch_size) * self.error\n",
    "        dweight3 = np.dot(cost.T, self.layer2).T\n",
    "        dbias3 = np.sum(cost,axis = 0)\n",
    "        self.weight3 = self.weight3 - self.learn_rate * dweight3\n",
    "        self.bias3 = self.bias3 - self.learn_rate * dbias3\n",
    "        \n",
    "        dweight2 = np.dot((np.dot((cost), self.weight3.T) \n",
    "                            * (self.z2 > 0)).T, self.layer1).T\n",
    "        dbias2 = np.sum(np.dot((cost),self.weight3.T) \n",
    "                            * (self.z2 > 0),axis = 0)\n",
    "        self.weight2 = self.weight2 - self.learn_rate * dweight2\n",
    "        self.bias2 = self.bias2 - self.learn_rate * dbias2\n",
    "\n",
    "        dweight1 = np.dot((np.dot(np.dot((cost), self.weight3.T)\n",
    "                            * (self.z2 > 0),self.weight2.T) * (self.z1 > 1)).T, self.batch_x).T\n",
    "        dbias1 = np.sum((np.dot(np.dot((cost), self.weight3.T) \n",
    "                            * (self.z2 > 0), self.weight2.T) * (self.z1 > 1)), axis = 0)\n",
    "        self.weight1 = self.weight1 - self.learn_rate * dweight1\n",
    "        self.bias1 = self.bias1 - self.learn_rate * dbias1\n",
    "\n",
    "    def train(self):\n",
    "        for epoch in range(self.epochs):\n",
    "            loss = 0\n",
    "            for batch_size in range(self.X_train.shape[0] // self.batch_size - 1):\n",
    "                a = batch_size * self.batch_size\n",
    "                b = (batch_size + 1) * self.batch_size\n",
    "                self.batch_x = self.X_train[a:b]\n",
    "                self.batch_y = self.y_train[a:b]\n",
    "                self.forwardpass()\n",
    "                self.backpropagate()\n",
    "                loss += np.mean(self.error ** 2)\n",
    "\n",
    "            print('Epoch: {}\\tLoss: {}'.format(epoch, loss))\n",
    "        \n",
    "    def results(self,xtest,ytest):\n",
    "        self.batch_x = xtest\n",
    "        self.batch_y = ytest\n",
    "        self.forwardpass()\n",
    "        correct = np.count_nonzero(np.argmax(self.layer3,axis=1) == np.argmax(self.batch_y, axis=1))\n",
    "        incorrect = self.batch_x.shape[0] - correct\n",
    "        accuracy = correct / self.batch_x.shape[0]\n",
    "        print(\"====Results\\nNetwork properties: Input: {0}, Batch Size: {1}, Output: {2}\\nCorrect classification: {3}\\nIncorrect classification: {4}\\nAccuracy: {5}%\"\n",
    "                .format(X_train.shape[1], self.batch_size, self.batch_y.shape[1], correct, incorrect, round(100*accuracy,2)))\n",
    "\n",
    "\n",
    "dnn = DeepNeuralNetwork(X_train, y_train) \n",
    "dnn.train()\n",
    "dnn.results(X_test, y_test)\n",
    "\n"
   ]
  },
  {
   "cell_type": "code",
   "execution_count": null,
   "metadata": {},
   "outputs": [],
   "source": []
  }
 ],
 "metadata": {
  "interpreter": {
   "hash": "0661617b85a873d2b1e7e492c37ac824eb06450b9a7a1e234e76f5a79ca18d3f"
  },
  "kernelspec": {
   "display_name": "Python 3.9.6 64-bit",
   "language": "python",
   "name": "python3"
  },
  "language_info": {
   "codemirror_mode": {
    "name": "ipython",
    "version": 3
   },
   "file_extension": ".py",
   "mimetype": "text/x-python",
   "name": "python",
   "nbconvert_exporter": "python",
   "pygments_lexer": "ipython3",
   "version": "3.9.6"
  },
  "orig_nbformat": 4
 },
 "nbformat": 4,
 "nbformat_minor": 2
}
